{
 "cells": [
  {
   "cell_type": "markdown",
   "source": [],
   "metadata": {
    "collapsed": false
   },
   "id": "346c225e89096c80"
  },
  {
   "cell_type": "markdown",
   "source": [
    "# Rotulador primitivo \n",
    "será utilizado para rotular as questões que serão utilizadas para treinar o modelo futuramente"
   ],
   "metadata": {
    "collapsed": false
   },
   "id": "b8356ee5b48b99c6"
  },
  {
   "cell_type": "code",
   "execution_count": 10,
   "outputs": [],
   "source": [
    "import os\n",
    "from tag_parser import TagParser"
   ],
   "metadata": {
    "collapsed": false,
    "ExecuteTime": {
     "end_time": "2023-11-18T23:40:24.480596672Z",
     "start_time": "2023-11-18T23:40:24.475047045Z"
    }
   },
   "id": "d4cb7fdf4e3d830"
  },
  {
   "cell_type": "code",
   "execution_count": 13,
   "outputs": [],
   "source": [
    "def get_tags(path: str) -> list[dict]:\n",
    "    \"\"\"\n",
    "    :param path: path para pasta com as tags \n",
    "    :return: lista de dicionários, onde chave é a matéria e valores é uma lista de tags.\n",
    "    \"\"\"\n",
    "    tags = []\n",
    "    parser = TagParser()\n",
    "    tag_files = os.listdir(path)\n",
    "    for tag_file in tag_files:\n",
    "        tag_dict = {tag_file[:-4]: parser.parse_txt(path + \"/\" + tag_file)}\n",
    "        tags.append(tag_dict)\n",
    "    return tags"
   ],
   "metadata": {
    "collapsed": false,
    "ExecuteTime": {
     "end_time": "2023-11-18T23:40:44.267186090Z",
     "start_time": "2023-11-18T23:40:44.259447267Z"
    }
   },
   "id": "6eeb4360b19feccb"
  },
  {
   "cell_type": "code",
   "execution_count": 21,
   "outputs": [],
   "source": [
    "class Labeler:\n",
    "    \"\"\"\n",
    "    Classe que realiza rotulação de questões utilizando contagem de tags\n",
    "    \"\"\"\n",
    "    def __init__(self, max_tags: int):\n",
    "        self.max_tags = max_tags\n",
    "    \n",
    "    def label(self, question: str, tags: list[dict]) -> list[str]:\n",
    "        \"\"\"\n",
    "        :param question: string contendo questão a ser rotulada\n",
    "        :param tags: tags e palavras chaves\n",
    "        :return: lista de tags e matérias\n",
    "        \"\"\"\n",
    "        question = question.lower()\n",
    "        possible_tags = {}\n",
    "        possible_subjects = {}\n",
    "        for tag_dict in tags:\n",
    "            for subject, tag_list in tag_dict.items():\n",
    "                for tag in tag_list:\n",
    "                    frequency = question.count(tag)\n",
    "                    if frequency > 0:\n",
    "                        possible_tags[tag] = frequency\n",
    "                        if possible_subjects.get(subject) is None:\n",
    "                            possible_subjects[subject] = frequency\n",
    "                        else:\n",
    "                            possible_subjects[subject] += frequency\n",
    "                            \n",
    "        possible_tags = sorted(possible_tags.items(), key=lambda x:x[1], reverse=True)\n",
    "        \n",
    "        possible_subjects = sorted(possible_subjects.items(), key=lambda x:x[1], reverse=True) \n",
    "        \n",
    "        print(possible_tags)\n",
    "        print(possible_subjects)"
   ],
   "metadata": {
    "collapsed": false,
    "ExecuteTime": {
     "end_time": "2023-11-19T00:11:28.976272739Z",
     "start_time": "2023-11-19T00:11:28.964058412Z"
    }
   },
   "id": "42bd197df4fb2c88"
  },
  {
   "cell_type": "code",
   "execution_count": 33,
   "outputs": [
    {
     "name": "stdout",
     "output_type": "stream",
     "text": [
      "questão 51 \n",
      "escrito durante a primeira guerra mundial, o seguinte \n",
      "trecho faz parte da carta enviada pelo secretário do exterior \n",
      "britânico, sir arthur james balfour, ao banqueiro lord  \n",
      "rotschild, presidente da liga sionista, em 2 de novembro \n",
      "de\t1917,\ta\tcarta\tficou\tconhecida \tcomo\tdeclaração \tbalfour:\n",
      "“o governo de sua majestade vê com aprovação o \n",
      "estabelecimento na palestina de um lar nacional para \n",
      "o povo judeu, e fará todos os esforços para facilitar tal \n",
      "objetivo. nada será feito que possa prejudicar os direitos \n",
      "civis e religiosos das comunidades não judaicas na \n",
      "palestina.”\n",
      "gattaz, a. a guerra da palestina . são paulo: usina do livro, 2002 (adaptado).\n",
      "a análise do resultado do processo em questão revela que \n",
      "o governo inglês foi incapaz de garantir seu objetivo de\n",
      "a a promover\to\tbem-estar\tsocial.\n",
      "b b negociar o apoio muçulmano.\n",
      "c c mediar\tos\tconflitos\tterritoriais.\n",
      "d d estimular a cooperação regional.\n",
      "e e combater os governos autocráticos.\n",
      "[('primeira guerra mundial', 1), ('unidades', 1), ('comunidades', 1)]\n",
      "[('história', 1), ('física', 1), ('biologia', 1)]\n"
     ]
    }
   ],
   "source": [
    "with open(\"test_questions/51.txt\") as file:\n",
    "    question = \"\".join(file.readlines()).strip().lower()\n",
    "print(question)\n",
    "    \n",
    "labeler = Labeler(20)\n",
    "tags = get_tags(\"tags\")\n",
    "labeler.label(question, tags)"
   ],
   "metadata": {
    "collapsed": false,
    "ExecuteTime": {
     "end_time": "2023-11-19T00:23:45.001193670Z",
     "start_time": "2023-11-19T00:23:44.960032147Z"
    }
   },
   "id": "c65eba3dfd517d5c"
  }
 ],
 "metadata": {
  "kernelspec": {
   "display_name": "Python 3",
   "language": "python",
   "name": "python3"
  },
  "language_info": {
   "codemirror_mode": {
    "name": "ipython",
    "version": 2
   },
   "file_extension": ".py",
   "mimetype": "text/x-python",
   "name": "python",
   "nbconvert_exporter": "python",
   "pygments_lexer": "ipython2",
   "version": "2.7.6"
  }
 },
 "nbformat": 4,
 "nbformat_minor": 5
}
